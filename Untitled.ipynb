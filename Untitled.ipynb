{
 "cells": [
  {
   "cell_type": "markdown",
   "id": "a083e9f8-0ad3-4a7a-9068-bc35542c5d03",
   "metadata": {},
   "source": [
    "<div style=\"text-align: center;\">\n",
    "\n",
    "# **Mini Project: Simple Relative Strength Index (RSI) Trading Strategy**  \n",
    "</div>\n"
   ]
  },
  {
   "cell_type": "markdown",
   "id": "d8eeaf94-0ce6-4632-97dd-e01e2a0f2126",
   "metadata": {},
   "source": [
    "## Fetch Market Data\n",
    "\n",
    "For this mini project, we will utilize an library called yfinance to obtain historical data from Yahoo Finance of the Apple Inc. (AAPL), which will serve as our dataset. "
   ]
  },
  {
   "cell_type": "code",
   "execution_count": 33,
   "id": "264e4655-5718-4487-ac8a-27a1867c3913",
   "metadata": {},
   "outputs": [
    {
     "name": "stdout",
     "output_type": "stream",
     "text": [
      "            1. open  2. high    3. low  4. close   5. volume\n",
      "2025-02-25  248.000   250.00  244.9100    247.04  48013272.0\n",
      "2025-02-24  244.925   248.86  244.4200    247.10  51326396.0\n",
      "2025-02-21  245.950   248.69  245.2200    245.55  53197431.0\n",
      "2025-02-20  244.940   246.78  244.2900    245.83  32316907.0\n",
      "2025-02-19  244.660   246.01  243.1604    244.87  32204215.0\n"
     ]
    }
   ],
   "source": [
    "import requests\n",
    "import pandas as pd\n",
    "\n",
    "api_key = \"FON044JGN2FUTXLI\"\n",
    "symbol = \"AAPL\"\n",
    "url = f\"https://www.alphavantage.co/query?function=TIME_SERIES_DAILY&symbol={symbol}&apikey={api_key}&outputsize=full\"\n",
    "\n",
    "response = requests.get(url)\n",
    "data = response.json()\n",
    "\n",
    "if \"Time Series (Daily)\" in data:\n",
    "    df = pd.DataFrame.from_dict(data[\"Time Series (Daily)\"], orient=\"index\")\n",
    "    df.index = pd.to_datetime(df.index)\n",
    "    df = df.astype(float)\n",
    "    print(df.head())\n",
    "else:\n",
    "    print(\"Error:\", data)  # Print full response for debugging\n"
   ]
  },
  {
   "cell_type": "code",
   "execution_count": 35,
   "id": "36460348-de5b-49de-a0d4-ef0dfd49c3d0",
   "metadata": {},
   "outputs": [
    {
     "data": {
      "text/html": [
       "<div>\n",
       "<style scoped>\n",
       "    .dataframe tbody tr th:only-of-type {\n",
       "        vertical-align: middle;\n",
       "    }\n",
       "\n",
       "    .dataframe tbody tr th {\n",
       "        vertical-align: top;\n",
       "    }\n",
       "\n",
       "    .dataframe thead th {\n",
       "        text-align: right;\n",
       "    }\n",
       "</style>\n",
       "<table border=\"1\" class=\"dataframe\">\n",
       "  <thead>\n",
       "    <tr style=\"text-align: right;\">\n",
       "      <th></th>\n",
       "      <th>Open</th>\n",
       "      <th>High</th>\n",
       "      <th>Low</th>\n",
       "      <th>Close</th>\n",
       "      <th>Volume</th>\n",
       "    </tr>\n",
       "  </thead>\n",
       "  <tbody>\n",
       "    <tr>\n",
       "      <th>2025-02-25</th>\n",
       "      <td>248.000</td>\n",
       "      <td>250.00</td>\n",
       "      <td>244.9100</td>\n",
       "      <td>247.04</td>\n",
       "      <td>48013272.0</td>\n",
       "    </tr>\n",
       "    <tr>\n",
       "      <th>2025-02-24</th>\n",
       "      <td>244.925</td>\n",
       "      <td>248.86</td>\n",
       "      <td>244.4200</td>\n",
       "      <td>247.10</td>\n",
       "      <td>51326396.0</td>\n",
       "    </tr>\n",
       "    <tr>\n",
       "      <th>2025-02-21</th>\n",
       "      <td>245.950</td>\n",
       "      <td>248.69</td>\n",
       "      <td>245.2200</td>\n",
       "      <td>245.55</td>\n",
       "      <td>53197431.0</td>\n",
       "    </tr>\n",
       "    <tr>\n",
       "      <th>2025-02-20</th>\n",
       "      <td>244.940</td>\n",
       "      <td>246.78</td>\n",
       "      <td>244.2900</td>\n",
       "      <td>245.83</td>\n",
       "      <td>32316907.0</td>\n",
       "    </tr>\n",
       "    <tr>\n",
       "      <th>2025-02-19</th>\n",
       "      <td>244.660</td>\n",
       "      <td>246.01</td>\n",
       "      <td>243.1604</td>\n",
       "      <td>244.87</td>\n",
       "      <td>32204215.0</td>\n",
       "    </tr>\n",
       "  </tbody>\n",
       "</table>\n",
       "</div>"
      ],
      "text/plain": [
       "               Open    High       Low   Close      Volume\n",
       "2025-02-25  248.000  250.00  244.9100  247.04  48013272.0\n",
       "2025-02-24  244.925  248.86  244.4200  247.10  51326396.0\n",
       "2025-02-21  245.950  248.69  245.2200  245.55  53197431.0\n",
       "2025-02-20  244.940  246.78  244.2900  245.83  32316907.0\n",
       "2025-02-19  244.660  246.01  243.1604  244.87  32204215.0"
      ]
     },
     "execution_count": 35,
     "metadata": {},
     "output_type": "execute_result"
    }
   ],
   "source": [
    "df.columns = [\"Open\", \"High\", \"Low\", \"Close\", \"Volume\"]\n",
    "df.head()"
   ]
  },
  {
   "cell_type": "code",
   "execution_count": 44,
   "id": "d8ff3ebc-6279-42dc-87bb-4dfe2c6a81ea",
   "metadata": {},
   "outputs": [
    {
     "name": "stderr",
     "output_type": "stream",
     "text": [
      "[*********************100%***********************]  1 of 1 completed\n",
      "\n",
      "1 Failed download:\n",
      "['AAPL']: YFRateLimitError('Too Many Requests. Rate limited. Try after a while.')\n"
     ]
    },
    {
     "name": "stdout",
     "output_type": "stream",
     "text": [
      "Empty DataFrame\n",
      "Columns: [(Adj Close, AAPL), (Close, AAPL), (High, AAPL), (Low, AAPL), (Open, AAPL), (Volume, AAPL)]\n",
      "Index: []\n"
     ]
    }
   ],
   "source": [
    "import yfinance as yf\n",
    "\n",
    "symbol = \"AAPL\"\n",
    "df = yf.download(symbol, start=\"2023-02-25\", end=\"2024-02-25\")  # One-year range\n",
    "print(df.head())\n"
   ]
  },
  {
   "cell_type": "code",
   "execution_count": null,
   "id": "97df20e1-2cee-495b-882a-8ab3dc6279ab",
   "metadata": {},
   "outputs": [],
   "source": []
  }
 ],
 "metadata": {
  "kernelspec": {
   "display_name": "Python 3 (ipykernel)",
   "language": "python",
   "name": "python3"
  },
  "language_info": {
   "codemirror_mode": {
    "name": "ipython",
    "version": 3
   },
   "file_extension": ".py",
   "mimetype": "text/x-python",
   "name": "python",
   "nbconvert_exporter": "python",
   "pygments_lexer": "ipython3",
   "version": "3.12.7"
  }
 },
 "nbformat": 4,
 "nbformat_minor": 5
}
